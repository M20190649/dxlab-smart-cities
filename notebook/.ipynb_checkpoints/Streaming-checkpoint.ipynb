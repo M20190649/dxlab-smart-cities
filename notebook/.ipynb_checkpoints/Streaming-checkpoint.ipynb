{
 "cells": [
  {
   "cell_type": "code",
   "execution_count": null,
   "metadata": {},
   "outputs": [],
   "source": [
    "import pyspark\n",
    "from pyspark.streaming import StreamingContext"
   ]
  },
  {
   "cell_type": "code",
   "execution_count": null,
   "metadata": {
    "scrolled": true
   },
   "outputs": [],
   "source": [
    "sc"
   ]
  },
  {
   "cell_type": "code",
   "execution_count": null,
   "metadata": {},
   "outputs": [],
   "source": [
    "> TODO\n",
    "Spark streaming: Calcular el sample rate por segundo... por metros?\n",
    "\n",
    "\n",
    "\n",
    "\n",
    "from datetime import datetime\n",
    "import pika\n",
    "import json\n",
    "\n",
    "\n",
    "RABBIT_EXCHANGE = \"demo.spark.streaming\"\n",
    "RABBIT_QUEUE    = \"spark.out\"\n",
    "\n",
    "def parseLogLine(line):\n",
    "    line = line.strip().split(\",\")\n",
    "    date = line[5] + \" \" + line[6]\n",
    "    return {\n",
    "        \"lat\": float( line[0] ), \n",
    "        \"lon\": float( line[1] ),\n",
    "        \"ts\" : datetime.strptime(date, \"%Y-%m-%d %H:%M:%S\").timestamp()\n",
    "    }\n",
    "\n",
    "\n",
    "def emitLocations(locations):\n",
    "    \n",
    "    connection = pika.BlockingConnection(pika.ConnectionParameters(host=\"rabbit\"))\n",
    "    channel    = connection.channel()\n",
    "\n",
    "    for loc in locations:\n",
    "        channel.basic_publish(exchange=RABBIT_EXCHANGE, routing_key=\"out\", body=json.dumps(loc) )\n",
    "\n",
    "\n",
    "connection = pika.BlockingConnection(pika.ConnectionParameters(host=\"rabbit\"))\n",
    "channel    = connection.channel()\n",
    "\n",
    "channel.exchange_declare(exchange=RABBIT_EXCHANGE, exchange_type='fanout')\n",
    "channel.queue_declare(queue=RABBIT_QUEUE)\n",
    "channel.queue_bind(exchange=RABBIT_EXCHANGE, queue=RABBIT_QUEUE)\n",
    "\n"
   ]
  },
  {
   "cell_type": "code",
   "execution_count": null,
   "metadata": {},
   "outputs": [],
   "source": [
    "ssc = StreamingContext(sc, 5)\n",
    "\n",
    "lines = ssc.socketTextStream(\"localhost\", 9999)\n",
    "lines = lines.map( \n",
    "    parseLogLine\n",
    ")\n",
    "lines.pprint()\n",
    "lines.foreachRDD( lambda rdd: rdd.foreachPartition( emitLocations ) )\n",
    "\n",
    "\n",
    "ssc.start()             # Start the computation\n",
    "ssc.awaitTermination()  # Wait for the computation to terminate"
   ]
  },
  {
   "cell_type": "code",
   "execution_count": null,
   "metadata": {},
   "outputs": [],
   "source": []
  }
 ],
 "metadata": {
  "kernelspec": {
   "display_name": "Python 3",
   "language": "python",
   "name": "python3"
  },
  "language_info": {
   "codemirror_mode": {
    "name": "ipython",
    "version": 3
   },
   "file_extension": ".py",
   "mimetype": "text/x-python",
   "name": "python",
   "nbconvert_exporter": "python",
   "pygments_lexer": "ipython3",
   "version": "3.6.2"
  }
 },
 "nbformat": 4,
 "nbformat_minor": 2
}
