{
 "cells": [
  {
   "cell_type": "code",
   "execution_count": null,
   "metadata": {},
   "outputs": [
    {
     "name": "stdout",
     "output_type": "stream",
     "text": [
      "waiting for connection\n"
     ]
    }
   ],
   "source": [
    "import socket\n",
    "import errno\n",
    "import sys\n",
    "import pika\n",
    "\n",
    "from time import sleep\n",
    "from datetime import datetime\n",
    "\n",
    "\n",
    "HOST = \"localhost\"\n",
    "PORT = 9999\n",
    "\n",
    "with open(\"data/010/Trajectory/20080618003409.plt\") as f:\n",
    "    \n",
    "    # Read file and remove header\n",
    "    lines = f.read().split('\\n')[6:]\n",
    "    i = 0\n",
    "\n",
    "    # Connect to RabbitMQ\n",
    "    #connection = pika.BlockingConnection(pika.ConnectionParameters(host=\"rabbit\"))\n",
    "    #channel    = connection.channel()\n",
    "    #channel.queue_declare(queue=\"log_lines\")\n",
    "    \n",
    "    #for line in lines:\n",
    "    #    channel.basic_publish(exchange='smart-city', routing_key=\"log_lines\", body=line)\n",
    "    #    print(line)\n",
    "    #    sleep( 1 )\n",
    "\n",
    "    \n",
    "    # Create a TCP/IP socket\n",
    "    sock = socket.socket(socket.AF_INET, socket.SOCK_STREAM)\n",
    "    sock.bind(  (HOST, PORT)  )\n",
    "    sock.listen(1)\n",
    "    \n",
    "    while True:\n",
    "        try:\n",
    "            # Wait for connection\n",
    "            print('waiting for connection')\n",
    "            connection, client_address = sock.accept()\n",
    "            \n",
    "            while i < len(lines):\n",
    "                line = lines[i] + '\\n'\n",
    "                connection.sendall( line.encode('utf-8') )\n",
    "                \n",
    "                #channel.basic_publish(exchange='smart-city', routing_key=\"log_lines\", body=line)\n",
    "                i = i + 1\n",
    "                print( 'Line ' + str(i) + ': ' + lines[i] )\n",
    "                sleep( 1 )\n",
    "                \n",
    "        except socket.error as e: \n",
    "            if e.errno == errno.EPIPE:\n",
    "                print( 'client disconnected' )\n",
    "                continue\n",
    "\n",
    "#f.closed()\n"
   ]
  },
  {
   "cell_type": "code",
   "execution_count": null,
   "metadata": {},
   "outputs": [],
   "source": []
  },
  {
   "cell_type": "code",
   "execution_count": null,
   "metadata": {},
   "outputs": [],
   "source": []
  }
 ],
 "metadata": {
  "kernelspec": {
   "display_name": "Python 3",
   "language": "python",
   "name": "python3"
  },
  "language_info": {
   "codemirror_mode": {
    "name": "ipython",
    "version": 3
   },
   "file_extension": ".py",
   "mimetype": "text/x-python",
   "name": "python",
   "nbconvert_exporter": "python",
   "pygments_lexer": "ipython3",
   "version": "3.6.2"
  }
 },
 "nbformat": 4,
 "nbformat_minor": 2
}
