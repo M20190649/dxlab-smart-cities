{
 "cells": [
  {
   "cell_type": "markdown",
   "metadata": {},
   "source": [
    "# 2. Analyzing Human Trajectories with Spark\n",
    "\n",
    "\n",
    "## Objective\n",
    "\n",
    "In the previous tutorial you learnt how to use Spark for loading, cleansing and visualizing urban data. For this purpose you worked with the [Geolife trajectory dataset][2]. In this 2nd tutorial, you will explore new capabilities of Spark for detecting human trajectories and computing some basic properties (distance, duration, etc.). \n",
    "\n",
    "[2]: https://www.microsoft.com/en-us/research/publication/geolife-gps-trajectory-dataset-user-guide/"
   ]
  },
  {
   "cell_type": "markdown",
   "metadata": {},
   "source": [
    "### Preparing the Environment"
   ]
  },
  {
   "cell_type": "code",
   "execution_count": 3,
   "metadata": {},
   "outputs": [
    {
     "data": {
      "text/html": [
       "\n",
       "        <div>\n",
       "            <p><b>SparkContext</b></p>\n",
       "\n",
       "            <p><a href=\"http://localhost:4040\">Spark UI</a></p>\n",
       "\n",
       "            <dl>\n",
       "              <dt>Version</dt>\n",
       "                <dd><code>v2.2.0</code></dd>\n",
       "              <dt>Master</dt>\n",
       "                <dd><code>local[2]</code></dd>\n",
       "              <dt>AppName</dt>\n",
       "                <dd><code>Spark Notebook</code></dd>\n",
       "            </dl>\n",
       "        </div>\n",
       "        "
      ],
      "text/plain": [
       "<SparkContext master=local[2] appName=Spark Notebook>"
      ]
     },
     "execution_count": 3,
     "metadata": {},
     "output_type": "execute_result"
    }
   ],
   "source": [
    "# For printing several outpus in 1 cell\n",
    "from IPython.core.interactiveshell import InteractiveShell\n",
    "InteractiveShell.ast_node_interactivity = \"all\"\n",
    "\n",
    "# Connect to Spark cluster\n",
    "import pyspark\n",
    "sc"
   ]
  },
  {
   "cell_type": "markdown",
   "metadata": {},
   "source": [
    "\n",
    "## User Transportation Modes\n",
    "\n",
    "Besides GPS coordinates, the Geolife trajectory dataset contains information about **user transportation modes** (e.g., bicycle, bus, taxi, etc.). This information was manually provided by project participants and is stored in files called `labels.txt`. **There is one labels.txt file per user folder**. \n",
    "\n",
    "A labels.txt file is composed of lines having the structure:\n",
    "\n",
    "    (date1, time1, date2, time2, transport)\n",
    "\n",
    "The pair `date1+time1`/`date2+time2` represents the **start time/end time** of a trajectory, respectively. Lets verify this by loading and exploring the first lines of a labels.txt file."
   ]
  },
  {
   "cell_type": "code",
   "execution_count": 6,
   "metadata": {},
   "outputs": [
    {
     "data": {
      "text/plain": [
       "['Start Time\\tEnd Time\\tTransportation Mode',\n",
       " '2007/06/26 11:32:29\\t2007/06/26 11:40:29\\tbus',\n",
       " '2008/03/28 14:52:54\\t2008/03/28 15:59:59\\ttrain',\n",
       " '2008/03/28 16:00:00\\t2008/03/28 22:02:00\\ttrain',\n",
       " '2008/03/29 01:27:50\\t2008/03/29 15:59:59\\ttrain']"
      ]
     },
     "execution_count": 6,
     "metadata": {},
     "output_type": "execute_result"
    }
   ],
   "source": [
    "rdd1 = sc.textFile( 'data/010/labels.txt' )\n",
    "rdd1.take(5)"
   ]
  },
  {
   "cell_type": "markdown",
   "metadata": {},
   "source": [
    "As you can see the file contains metadata. Lets remove it by filtering the lines not representing a "
   ]
  },
  {
   "cell_type": "code",
   "execution_count": null,
   "metadata": {},
   "outputs": [],
   "source": [
    "rdd1 = sc.textFile( 'data/010/Trajectory/20080618003409.plt' )\n",
    "rdd2 = sc.textFile( 'data/010/Trajectory/20081219114010.plt' )\n",
    "rdd3 = sc.textFile( 'data/010/Trajectory/20080928160000.plt' )\n",
    "\n",
    "rdd4 = rdd1.union( rdd2 ).union( rdd3 )\n",
    "\n",
    "crds = rdd4.filter( notTraceMetadata ).map( parseLogLine ).map( \n",
    "    lambda cor: ( cor['lat'], cor['lon'] )\n",
    ").collect()\n",
    "\n",
    "fig = gmaps.figure()\n",
    "fig.add_layer( gmaps.heatmap_layer(crds) )\n",
    "fig"
   ]
  },
  {
   "cell_type": "code",
   "execution_count": null,
   "metadata": {},
   "outputs": [],
   "source": [
    "\n",
    "\n",
    "from math import radians, sin, cos, sqrt, atan2\n",
    "\n"
   ]
  },
  {
   "cell_type": "code",
   "execution_count": null,
   "metadata": {
    "scrolled": true
   },
   "outputs": [],
   "source": [
    "import folium\n",
    "from folium.plugins import HeatMap\n",
    "\n",
    "\n",
    "rdd1 = sc.textFile( 'data/010/Trajectory/20080618003409.plt' )\n",
    "rdd2 = sc.textFile( 'data/010/Trajectory/20081219114010.plt' )\n",
    "\n",
    "_data = rdd1.union( rdd2 ).filter( notTraceMetadata ).map( parseLogLine ).map( \n",
    "    lambda cor: [ cor['lat'], cor['lon'] ]\n",
    ").collect()\n",
    "\n",
    "\n",
    "\n",
    "m = folium.Map(location=_data[0], tiles='Mapbox', API_key='pk.eyJ1IjoiamF2aWVyYWVzcGlub3NhIiwiYSI6ImNpdmgwaDhmdDAwejQyeW8wMWswbzg3YTcifQ.g7D5-oF4zE4r-oZidRTWBA')\n",
    "HeatMap( _data ).add_to(m)\n",
    "\n",
    "m"
   ]
  },
  {
   "cell_type": "markdown",
   "metadata": {},
   "source": [
    "### Grouping Traces per User"
   ]
  },
  {
   "cell_type": "markdown",
   "metadata": {},
   "source": [
    "So far, you are capable of answering these questions:\n",
    "\n",
    "* How many locations has the trace ```20080618003409.plt```? \n",
    "* How many locations producer user  ```010```? \n",
    "* How many locations produced all users?\n"
   ]
  },
  {
   "cell_type": "code",
   "execution_count": null,
   "metadata": {},
   "outputs": [],
   "source": [
    "rdd1 = sc.textFile( 'data/010/Trajectory/20080618003409.plt' )\n",
    "rdd2 = sc.textFile( 'data/010/Trajectory/*.plt' )\n",
    "rdd3 = sc.textFile( 'data/*/Trajectory/*.plt' )\n",
    "\n",
    "parseTraceRDD( rdd1 ).count()\n",
    "parseTraceRDD( rdd2 ).count()\n",
    "parseTraceRDD( rdd3 ).count()"
   ]
  },
  {
   "cell_type": "markdown",
   "metadata": {},
   "source": [
    "What about the **number of locations per user**? This information is not contain in the files but in their PATHs. \n",
    "\n",
    "One way of dealing with this situation is by using ```sc.wholeTextFiles(path)```. This operation returns a ```(key, value)``` pair RDD, where ```key``` is the PATH to a file and ```value``` its content."
   ]
  },
  {
   "cell_type": "code",
   "execution_count": null,
   "metadata": {},
   "outputs": [],
   "source": [
    "rdd4 = sc.wholeTextFiles( 'data/*/Trajectory/*.plt' )\n",
    "\n",
    "rdd4.map(\n",
    "    lambda kv: ( kv[0], type(kv[1] ) \n",
    ")).take(3)\n"
   ]
  },
  {
   "cell_type": "markdown",
   "metadata": {},
   "source": [
    "You can know extract the user and trace numbers from the path file."
   ]
  },
  {
   "cell_type": "code",
   "execution_count": null,
   "metadata": {},
   "outputs": [],
   "source": [
    "import re\n",
    "\n",
    "def parsePath(path):\n",
    "    m = re.match('.*/(\\d.*)/Trajectory/(\\d*).plt', path)\n",
    "    return ( m.group(1), m.group(2) )\n",
    "\n",
    "def parseWholeLog(content):\n",
    "    lines = content.strip().split('\\n')\n",
    "    return [ parseLogLine(line) for line in lines[6:] ]\n",
    "\n",
    "\n",
    "rdd4 = sc.wholeTextFiles( 'data/*/Trajectory/*.plt' )\n",
    "\n",
    "def f1(kv): return (parsePath(kv[0]), parseWholeLog(kv[1])) \n",
    "def f2(kv): return kv\n",
    "\n",
    "locationsRDD = rdd4.map( f1 ).flatMapValues( f2 )\n",
    "locationsRDD.count()"
   ]
  },
  {
   "cell_type": "markdown",
   "metadata": {},
   "source": [
    "### Visualizing GPS Traces"
   ]
  },
  {
   "cell_type": "markdown",
   "metadata": {},
   "source": [
    "#### Ploting traces"
   ]
  },
  {
   "cell_type": "code",
   "execution_count": null,
   "metadata": {},
   "outputs": [],
   "source": [
    "rdd4 = sc.wholeTextFiles( 'data/*/Trajectory/*.plt' )\n",
    "\n",
    "def f1(kv): return (parsePath(kv[0]), parseWholeLog(kv[1])) \n",
    "def f2(kv): return kv\n",
    "\n",
    "locationsRDD = rdd4.map( f1 ).flatMapValues( f2 )\n"
   ]
  },
  {
   "cell_type": "code",
   "execution_count": null,
   "metadata": {
    "scrolled": false
   },
   "outputs": [],
   "source": [
    "def toGeoJSON(geometry, locations):\n",
    "    coords = [ [loc['lon'], loc['lat']] for loc in locations ]\n",
    "    return {\n",
    "        \"type\": \"FeatureCollection\",\n",
    "        \"features\": [{\n",
    "            \"type\": \"Feature\",\n",
    "            \"geometry\": {\n",
    "                \"type\": geometry, \n",
    "                \"coordinates\": coords if geometry == \"LineString\" else coords.pop()\n",
    "            }\n",
    "        }]\n",
    "    }\n",
    "\n",
    "locs  = rdd4.map( f1 ).take(10)\n",
    "jsons = [ toGeoJSON( 'LineString', loc[1] ) for loc in locs ]\n",
    "\n",
    "\n",
    "fig = gmaps.figure()\n",
    "for json in jsons:\n",
    "    fig.add_layer( gmaps.geojson_layer( json) )\n",
    "fig\n"
   ]
  },
  {
   "cell_type": "markdown",
   "metadata": {},
   "source": [
    "#### Initial and Final Locations"
   ]
  },
  {
   "cell_type": "markdown",
   "metadata": {},
   "source": [
    "Recall that traces represent sequences ```<lat, lon, ts>```. The **initial/final location** of a trace correspond thus to the location having the **min/max timestamp**."
   ]
  },
  {
   "cell_type": "markdown",
   "metadata": {},
   "source": [
    "* Projecting and ordering timestamps"
   ]
  },
  {
   "cell_type": "code",
   "execution_count": null,
   "metadata": {},
   "outputs": [],
   "source": [
    "timestampsRDD = locationsRDD.map(\n",
    "    lambda loc: loc['ts']\n",
    ").sortBy( \n",
    "    lambda ts: ts \n",
    ")\n",
    "\n",
    "timestampsRDD.take(6)"
   ]
  },
  {
   "cell_type": "markdown",
   "metadata": {},
   "source": [
    "* Identyfing min/max timestamps"
   ]
  },
  {
   "cell_type": "code",
   "execution_count": null,
   "metadata": {},
   "outputs": [],
   "source": [
    "min_ts = timestampsRDD.min()\n",
    "max_ts = timestampsRDD.max()\n",
    "\n",
    "min_ts, max_ts"
   ]
  },
  {
   "cell_type": "markdown",
   "metadata": {},
   "source": [
    "* Looking the location with the min/max timestamp "
   ]
  },
  {
   "cell_type": "code",
   "execution_count": null,
   "metadata": {},
   "outputs": [],
   "source": []
  }
 ],
 "metadata": {
  "kernelspec": {
   "display_name": "Python 3",
   "language": "python",
   "name": "python3"
  },
  "language_info": {
   "codemirror_mode": {
    "name": "ipython",
    "version": 3
   },
   "file_extension": ".py",
   "mimetype": "text/x-python",
   "name": "python",
   "nbconvert_exporter": "python",
   "pygments_lexer": "ipython3",
   "version": "3.6.2"
  }
 },
 "nbformat": 4,
 "nbformat_minor": 2
}
